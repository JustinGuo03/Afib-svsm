{
 "cells": [
  {
   "cell_type": "code",
   "execution_count": 15,
   "id": "4c33fa7e",
   "metadata": {},
   "outputs": [],
   "source": [
    "import numpy as np\n",
    "from matplotlib import pyplot as plt\n",
    "from sklearn import preprocessing\n",
    "import wfdb\n",
    "import copy as cp\n",
    "import scipy.signal as signal\n",
    "import pickle\n",
    "from sklearn import preprocessing\n",
    "from tqdm import tqdm\n",
    "import os\n",
    "import re\n",
    "import pandas as pd\n",
    "import csv\n",
    "\n",
    "from sklearn.linear_model import LogisticRegression\n",
    "from sklearn.ensemble import RandomForestClassifier\n",
    "from xgboost import XGBClassifier\n",
    "from xgboost import plot_importance\n"
   ]
  },
  {
   "cell_type": "code",
   "execution_count": 16,
   "id": "2786a25b",
   "metadata": {},
   "outputs": [],
   "source": [
    "record_list = [] # Initialize the array that will hold the list of our records\n",
    "\n",
    "records = 'mit-bih-dataframes/subject_list.csv' # Get our record list like we did in the initial extraction\n",
    "with open(records) as rfile:# Load our records into the array\n",
    "    for record in rfile:\n",
    "        record = record[0:-1] # The -1 removes the newline (\"\\n\") character from the string\n",
    "        record_list.append(record)"
   ]
  },
  {
   "cell_type": "code",
   "execution_count": 17,
   "id": "cc58cdfb",
   "metadata": {},
   "outputs": [],
   "source": [
    "dfdic = {}\n",
    "for idx, x in enumerate(record_list):\n",
    "    dfdic[x] = pd.read_csv('mit-bih-features/'+x+ '.csv', index_col=0)"
   ]
  },
  {
   "cell_type": "code",
   "execution_count": 18,
   "id": "24948177",
   "metadata": {},
   "outputs": [],
   "source": [
    "subject_df = pd.DataFrame()\n",
    "for idx, x in enumerate(record_list):\n",
    "    subject_df = pd.concat([subject_df, dfdic[x]])\n",
    "subject_df = subject_df.drop([\"Unnamed: 0.1\"], axis=1)"
   ]
  },
  {
   "cell_type": "code",
   "execution_count": 19,
   "id": "fb93e284",
   "metadata": {},
   "outputs": [],
   "source": [
    "subject_df['Mappedrhythmlabels'] = subject_df['rhythmLabel'].map({'Normal':0, 'Other':0, 'AFIB':1})"
   ]
  },
  {
   "cell_type": "code",
   "execution_count": 20,
   "id": "f1683355",
   "metadata": {},
   "outputs": [
    {
     "data": {
      "text/html": [
       "<div>\n",
       "<style scoped>\n",
       "    .dataframe tbody tr th:only-of-type {\n",
       "        vertical-align: middle;\n",
       "    }\n",
       "\n",
       "    .dataframe tbody tr th {\n",
       "        vertical-align: top;\n",
       "    }\n",
       "\n",
       "    .dataframe thead th {\n",
       "        text-align: right;\n",
       "    }\n",
       "</style>\n",
       "<table border=\"1\" class=\"dataframe\">\n",
       "  <thead>\n",
       "    <tr style=\"text-align: right;\">\n",
       "      <th></th>\n",
       "      <th>subsetID</th>\n",
       "      <th>rhythmLabel</th>\n",
       "      <th>StoS</th>\n",
       "      <th>StoR</th>\n",
       "      <th>StoL</th>\n",
       "      <th>RtoS</th>\n",
       "      <th>RtoR</th>\n",
       "      <th>RtoL</th>\n",
       "      <th>LtoS</th>\n",
       "      <th>LtoR</th>\n",
       "      <th>LtoL</th>\n",
       "      <th>RMS</th>\n",
       "      <th>STD</th>\n",
       "      <th>CoefVar</th>\n",
       "      <th>Range</th>\n",
       "      <th>IQR</th>\n",
       "      <th>MAD</th>\n",
       "      <th>Mappedrhythmlabels</th>\n",
       "    </tr>\n",
       "  </thead>\n",
       "  <tbody>\n",
       "    <tr>\n",
       "      <th>0</th>\n",
       "      <td>04015-0.csv</td>\n",
       "      <td>Normal</td>\n",
       "      <td>0.200000</td>\n",
       "      <td>0.057143</td>\n",
       "      <td>0.028571</td>\n",
       "      <td>0.057143</td>\n",
       "      <td>0.228571</td>\n",
       "      <td>0.142857</td>\n",
       "      <td>0.057143</td>\n",
       "      <td>0.114286</td>\n",
       "      <td>0.114286</td>\n",
       "      <td>156.276998</td>\n",
       "      <td>43.660906</td>\n",
       "      <td>0.248152</td>\n",
       "      <td>155.0</td>\n",
       "      <td>78.00</td>\n",
       "      <td>32.5</td>\n",
       "      <td>0</td>\n",
       "    </tr>\n",
       "    <tr>\n",
       "      <th>1</th>\n",
       "      <td>04015-1.csv</td>\n",
       "      <td>Normal</td>\n",
       "      <td>0.000000</td>\n",
       "      <td>0.052632</td>\n",
       "      <td>0.000000</td>\n",
       "      <td>0.052632</td>\n",
       "      <td>0.184211</td>\n",
       "      <td>0.236842</td>\n",
       "      <td>0.000000</td>\n",
       "      <td>0.210526</td>\n",
       "      <td>0.263158</td>\n",
       "      <td>197.783973</td>\n",
       "      <td>57.233572</td>\n",
       "      <td>0.355262</td>\n",
       "      <td>213.0</td>\n",
       "      <td>93.50</td>\n",
       "      <td>55.0</td>\n",
       "      <td>0</td>\n",
       "    </tr>\n",
       "    <tr>\n",
       "      <th>2</th>\n",
       "      <td>04015-2.csv</td>\n",
       "      <td>Normal</td>\n",
       "      <td>0.333333</td>\n",
       "      <td>0.083333</td>\n",
       "      <td>0.055556</td>\n",
       "      <td>0.027778</td>\n",
       "      <td>0.305556</td>\n",
       "      <td>0.083333</td>\n",
       "      <td>0.111111</td>\n",
       "      <td>0.000000</td>\n",
       "      <td>0.000000</td>\n",
       "      <td>151.638551</td>\n",
       "      <td>43.820505</td>\n",
       "      <td>0.253179</td>\n",
       "      <td>138.0</td>\n",
       "      <td>72.00</td>\n",
       "      <td>56.0</td>\n",
       "      <td>0</td>\n",
       "    </tr>\n",
       "    <tr>\n",
       "      <th>3</th>\n",
       "      <td>04015-3.csv</td>\n",
       "      <td>Normal</td>\n",
       "      <td>0.300000</td>\n",
       "      <td>0.175000</td>\n",
       "      <td>0.000000</td>\n",
       "      <td>0.125000</td>\n",
       "      <td>0.025000</td>\n",
       "      <td>0.125000</td>\n",
       "      <td>0.075000</td>\n",
       "      <td>0.050000</td>\n",
       "      <td>0.125000</td>\n",
       "      <td>157.611865</td>\n",
       "      <td>48.827831</td>\n",
       "      <td>0.318730</td>\n",
       "      <td>167.0</td>\n",
       "      <td>79.00</td>\n",
       "      <td>59.0</td>\n",
       "      <td>0</td>\n",
       "    </tr>\n",
       "    <tr>\n",
       "      <th>4</th>\n",
       "      <td>04015-4.csv</td>\n",
       "      <td>Normal</td>\n",
       "      <td>0.090909</td>\n",
       "      <td>0.151515</td>\n",
       "      <td>0.090909</td>\n",
       "      <td>0.030303</td>\n",
       "      <td>0.060606</td>\n",
       "      <td>0.212121</td>\n",
       "      <td>0.212121</td>\n",
       "      <td>0.060606</td>\n",
       "      <td>0.090909</td>\n",
       "      <td>226.855681</td>\n",
       "      <td>53.260256</td>\n",
       "      <td>0.289227</td>\n",
       "      <td>237.0</td>\n",
       "      <td>95.75</td>\n",
       "      <td>66.5</td>\n",
       "      <td>0</td>\n",
       "    </tr>\n",
       "  </tbody>\n",
       "</table>\n",
       "</div>"
      ],
      "text/plain": [
       "      subsetID rhythmLabel      StoS      StoR      StoL      RtoS      RtoR  \\\n",
       "0  04015-0.csv      Normal  0.200000  0.057143  0.028571  0.057143  0.228571   \n",
       "1  04015-1.csv      Normal  0.000000  0.052632  0.000000  0.052632  0.184211   \n",
       "2  04015-2.csv      Normal  0.333333  0.083333  0.055556  0.027778  0.305556   \n",
       "3  04015-3.csv      Normal  0.300000  0.175000  0.000000  0.125000  0.025000   \n",
       "4  04015-4.csv      Normal  0.090909  0.151515  0.090909  0.030303  0.060606   \n",
       "\n",
       "       RtoL      LtoS      LtoR      LtoL         RMS        STD   CoefVar  \\\n",
       "0  0.142857  0.057143  0.114286  0.114286  156.276998  43.660906  0.248152   \n",
       "1  0.236842  0.000000  0.210526  0.263158  197.783973  57.233572  0.355262   \n",
       "2  0.083333  0.111111  0.000000  0.000000  151.638551  43.820505  0.253179   \n",
       "3  0.125000  0.075000  0.050000  0.125000  157.611865  48.827831  0.318730   \n",
       "4  0.212121  0.212121  0.060606  0.090909  226.855681  53.260256  0.289227   \n",
       "\n",
       "   Range    IQR   MAD  Mappedrhythmlabels  \n",
       "0  155.0  78.00  32.5                   0  \n",
       "1  213.0  93.50  55.0                   0  \n",
       "2  138.0  72.00  56.0                   0  \n",
       "3  167.0  79.00  59.0                   0  \n",
       "4  237.0  95.75  66.5                   0  "
      ]
     },
     "execution_count": 20,
     "metadata": {},
     "output_type": "execute_result"
    }
   ],
   "source": [
    "subject_df.head()"
   ]
  },
  {
   "cell_type": "code",
   "execution_count": 21,
   "id": "d5a86920",
   "metadata": {},
   "outputs": [
    {
     "name": "stdout",
     "output_type": "stream",
     "text": [
      "[-9.37489575e-01  1.01808093e+01 -1.85364865e+01 -4.97807649e+00\n",
      " -4.63256974e+00  2.11981146e+01 -3.36522819e+00  6.95924739e+00\n",
      " -4.94408904e+00  1.63733030e-02 -2.96493110e-01  9.11180003e+00\n",
      "  3.01561442e-02  7.61074116e-02  1.18200659e-02]\n"
     ]
    },
    {
     "data": {
      "image/png": "[encoded data removed]",
      "text/plain": [
       "<Figure size 432x288 with 1 Axes>"
      ]
     },
     "metadata": {
      "needs_background": "light"
     },
     "output_type": "display_data"
    }
   ],
   "source": [
    "#Logistic Regression Feature Importance\n",
    "X = subject_df.iloc[:, 2:17]\n",
    "Y = subject_df.iloc[:, -1]\n",
    "\n",
    "model=LogisticRegression(solver='liblinear')\n",
    "model.fit(X, Y)\n",
    "\n",
    "importance=model.coef_[0]\n",
    "print(importance)\n",
    "plt.bar(range(len(importance)), importance)\n",
    "plt.show()\n",
    "\n",
    "#Code from https://machinelearningmastery.com/calculate-feature-importance-with-python/"
   ]
  },
  {
   "cell_type": "code",
   "execution_count": 37,
   "id": "53a9d1b4",
   "metadata": {},
   "outputs": [
    {
     "name": "stdout",
     "output_type": "stream",
     "text": [
      "[0.01167388 0.05052    0.02002285 0.02781067 0.14200209 0.18860156\n",
      " 0.00741971 0.06894747 0.01605698 0.05516076 0.0280316  0.09378725\n",
      " 0.01969731 0.25738951 0.01287836]\n"
     ]
    },
    {
     "data": {
      "image/png": "[encoded data removed]",
      "text/plain": [
       "<Figure size 1080x540 with 1 Axes>"
      ]
     },
     "metadata": {
      "needs_background": "light"
     },
     "output_type": "display_data"
    }
   ],
   "source": [
    "#Random Forest Feature Importance\n",
    "X = subject_df.iloc[:, 2:17]\n",
    "Y = subject_df.iloc[:, -1]\n",
    "\n",
    "model=RandomForestClassifier(max_features=3, random_state=3)\n",
    "model.fit(X, Y)\n",
    "\n",
    "importance = model.feature_importances_\n",
    "print(importance)\n",
    "\n",
    "features = ['StoS', 'StoR','StoL','RtoS','RtoR','RtoL','LtoS','LtoR','LtoL','RMS','SD','CV','Range','IQR','MAD']\n",
    "x = np.arange(len(features))\n",
    "\n",
    "fig, ax = plt.subplots(figsize=(15, 7.5))\n",
    "\n",
    "ax.bar(range(len(importance)), importance)\n",
    "ax.set_xlabel('Feature', fontsize=15)\n",
    "ax.set_ylabel('Variable Importance', fontsize=15)\n",
    "ax.set_title('Feature Importance For Every Feature', fontsize=18)\n",
    "ax.set_xticks(x)\n",
    "ax.set_xticklabels(features)\n",
    "plt.show()\n",
    "\n",
    "#Code from https://machinelearningmastery.com/calculate-feature-importance-with-python/"
   ]
  },
  {
   "cell_type": "code",
   "execution_count": 23,
   "id": "cc704579",
   "metadata": {},
   "outputs": [
    {
     "ename": "NameError",
     "evalue": "name 'XGBClassifier' is not defined",
     "output_type": "error",
     "traceback": [
      "\u001b[0;31m---------------------------------------------------------------------------\u001b[0m",
      "\u001b[0;31mNameError\u001b[0m                                 Traceback (most recent call last)",
      "\u001b[0;32m<ipython-input-23-e93e3b624a26>\u001b[0m in \u001b[0;36m<module>\u001b[0;34m\u001b[0m\n\u001b[1;32m      3\u001b[0m \u001b[0mY\u001b[0m \u001b[0;34m=\u001b[0m \u001b[0msubject_df\u001b[0m\u001b[0;34m.\u001b[0m\u001b[0miloc\u001b[0m\u001b[0;34m[\u001b[0m\u001b[0;34m:\u001b[0m\u001b[0;34m,\u001b[0m \u001b[0;34m-\u001b[0m\u001b[0;36m1\u001b[0m\u001b[0;34m]\u001b[0m\u001b[0;34m\u001b[0m\u001b[0;34m\u001b[0m\u001b[0m\n\u001b[1;32m      4\u001b[0m \u001b[0;34m\u001b[0m\u001b[0m\n\u001b[0;32m----> 5\u001b[0;31m \u001b[0mmodel\u001b[0m\u001b[0;34m=\u001b[0m\u001b[0mXGBClassifier\u001b[0m\u001b[0;34m(\u001b[0m\u001b[0;34m)\u001b[0m\u001b[0;34m\u001b[0m\u001b[0;34m\u001b[0m\u001b[0m\n\u001b[0m\u001b[1;32m      6\u001b[0m \u001b[0mmodel\u001b[0m\u001b[0;34m.\u001b[0m\u001b[0mfit\u001b[0m\u001b[0;34m(\u001b[0m\u001b[0mX\u001b[0m\u001b[0;34m,\u001b[0m \u001b[0mY\u001b[0m\u001b[0;34m)\u001b[0m\u001b[0;34m\u001b[0m\u001b[0;34m\u001b[0m\u001b[0m\n\u001b[1;32m      7\u001b[0m \u001b[0;34m\u001b[0m\u001b[0m\n",
      "\u001b[0;31mNameError\u001b[0m: name 'XGBClassifier' is not defined"
     ]
    }
   ],
   "source": [
    "#XGBoost Feature Importance\n",
    "X = subject_df.iloc[:, 2:17]\n",
    "Y = subject_df.iloc[:, -1]\n",
    "\n",
    "model=XGBClassifier()\n",
    "model.fit(X, Y)\n",
    "\n",
    "print(model.feature_importances_)\n",
    "plt.bar(range(len(model.feature_importances)), model.feature_importances_)\n",
    "plt.show()\n",
    "\n",
    "#Code from https://machinelearningmastery.com/feature-importance-and-feature-selection-with-xgboost-in-python/"
   ]
  },
  {
   "cell_type": "code",
   "execution_count": null,
   "id": "c514af4b",
   "metadata": {},
   "outputs": [],
   "source": [
    "X = subject_df.iloc[:, 2:17]\n",
    "Y = subject_df.iloc[:, -1]\n",
    "\n",
    "model=XGBClassifier()\n",
    "model.fit(X, Y)\n",
    "\n",
    "plot_importance(model)\n",
    "plt.show()\n",
    "\n",
    "#Code from https://machinelearningmastery.com/feature-importance-and-feature-selection-with-xgboost-in-python/"
   ]
  }
 ],
 "metadata": {
  "kernelspec": {
   "display_name": "Python 3",
   "language": "python",
   "name": "python3"
  },
  "language_info": {
   "codemirror_mode": {
    "name": "ipython",
    "version": 3
   },
   "file_extension": ".py",
   "mimetype": "text/x-python",
   "name": "python",
   "nbconvert_exporter": "python",
   "pygments_lexer": "ipython3",
   "version": "3.8.8"
  }
 },
 "nbformat": 4,
 "nbformat_minor": 5
}
