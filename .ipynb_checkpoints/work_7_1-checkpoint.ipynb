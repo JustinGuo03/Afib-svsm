{
 "cells": [
  {
   "cell_type": "code",
   "execution_count": 1,
   "id": "1ea18b50-839c-41b9-89dc-b9bc831f76ba",
   "metadata": {},
   "outputs": [],
   "source": [
    "import numpy as np\n",
    "from matplotlib import pyplot as plt\n",
    "from sklearn import preprocessing\n",
    "import wfdb\n",
    "import copy as cp\n",
    "import scipy.signal as signal\n",
    "import pickle\n",
    "from sklearn import preprocessing\n",
    "from tqdm import tqdm\n",
    "import os\n",
    "import re\n",
    "import pandas as pd\n",
    "import csv"
   ]
  },
  {
   "cell_type": "markdown",
   "id": "ff518e51-5ede-4171-9999-eec653a86830",
   "metadata": {},
   "source": [
    "# Process Information Taken from Raw Files"
   ]
  },
  {
   "cell_type": "markdown",
   "id": "1b56f20a-36b3-4527-bae5-13efc2acb6be",
   "metadata": {},
   "source": [
    "## Import our Previously Extracted Data"
   ]
  },
  {
   "cell_type": "code",
   "execution_count": 2,
   "id": "3c8fc3db-52ee-45aa-aa1e-2c5c2f0cfced",
   "metadata": {},
   "outputs": [],
   "source": [
    "record_list = [] # Initialize the array that will hold the list of our records\n",
    "\n",
    "records = 'mit-bih-dataframes/subject_list.csv' # Get our record list like we did in the initial extraction\n",
    "with open(records) as rfile:# Load our records into the array\n",
    "    for record in rfile:\n",
    "        record = record[0:-1] # The -1 removes the newline (\"\\n\") character from the string\n",
    "        record_list.append(record)"
   ]
  },
  {
   "cell_type": "code",
   "execution_count": null,
   "id": "08b92ea0-d297-468a-bceb-1b93b6b24a6a",
   "metadata": {},
   "outputs": [
    {
     "name": "stderr",
     "output_type": "stream",
     "text": [
      "  0%|          | 0/23 [00:00<?, ?it/s]/Users/JJ/Python/anaconda3/lib/python3.8/site-packages/numpy/lib/arraysetops.py:583: FutureWarning: elementwise comparison failed; returning scalar instead, but in the future will perform elementwise comparison\n",
      "  mask |= (ar1 == a)\n",
      "  9%|▊         | 2/23 [00:36<06:30, 18.58s/it]"
     ]
    }
   ],
   "source": [
    "subject_dataframes = [] # Initialize our dataframe array\n",
    "\n",
    "for x in tqdm(record_list): # Extract our dataframes from the CSVs we saved previously\n",
    "    subject_dataframes.append(pd.read_csv('mit-bih-dataframes/'+x+'.csv', index_col=0))\n",
    "            # 'index_col=0' loads the index that is saved into the csv as the index rather than another column"
   ]
  },
  {
   "cell_type": "code",
   "execution_count": null,
   "id": "ae44f96a-5723-4b03-98ed-040fa80c6e54",
   "metadata": {},
   "outputs": [],
   "source": [
    "\n",
    "# Now we get the indexes of the R-Peaks from our dataframes\n",
    "qrs = [] # Initialize the array that will hold our list of R-Peaks for each subject\n",
    "\n",
    "for subject in tqdm(subject_dataframes): # Load each subject\n",
    "    qrs.append([idx for idx, x in enumerate(subject['R-Peak']) if x]) # Then we use list comprehension to get our r peaks for each subject\n",
    "                                                                # Recall, the indices that the R-Peak column is true is where there is an r-peak\n",
    "                                                                # So, we iterate through and identify which indices that is for each subject\n",
    "            \n",
    "print(qrs)"
   ]
  },
  {
   "cell_type": "markdown",
   "id": "82cb24c2-931a-40d1-9d6a-021504fd0325",
   "metadata": {
    "tags": []
   },
   "source": [
    "## Extract RR-Intervals"
   ]
  },
  {
   "cell_type": "markdown",
   "id": "7dcac9a3-97f0-40a4-9641-815801adc08d",
   "metadata": {},
   "source": [
    "In 2019, all of our developed variables were based on RR-Intervals, or the distance between adjacent R-Peaks. So, that is the first thing we extract "
   ]
  },
  {
   "cell_type": "code",
   "execution_count": 5,
   "id": "93830edf-cc3e-4b64-8cc7-12501c1c7a95",
   "metadata": {},
   "outputs": [],
   "source": [
    "rr_ints = [] # Initialize the array that will hold all of our subjects' RR-Intervals\n",
    "\n",
    "# Then we want to Go through all of our data that holds our R-Peaks [That will be the qrs array]\n",
    "# Iterating through that we want to extract the interval between each peak. \n",
    "# My suggested format is: \n",
    "\"\"\"\n",
    "for each subject:\n",
    "    for each rpeak sample_num in my current subject:\n",
    "        subject_rrinterval.append( rpeak sample_num - the sample_num before it)\n",
    "\"\"\"\n"
   ]
  },
  {
   "cell_type": "markdown",
   "id": "71514714-494c-4bc0-9c2a-5d5758401e47",
   "metadata": {},
   "source": [
    "## Save the RR-Intervals "
   ]
  },
  {
   "cell_type": "code",
   "execution_count": 6,
   "id": "fe79ee98-9757-4290-a0d5-84686797758a",
   "metadata": {},
   "outputs": [
    {
     "name": "stderr",
     "output_type": "stream",
     "text": [
      "100%|██████████████████████████████████████████████████████████████████████████████████| 23/23 [00:03<00:00,  5.86it/s]\n"
     ]
    }
   ],
   "source": [
    "# In this block use the code we looked at on 6/30 as a reference to save our rr-intervals as a .CSV"
   ]
  },
  {
   "cell_type": "markdown",
   "id": "2ae0aeac-6ff9-40f7-a34a-71c8e854342d",
   "metadata": {},
   "source": [
    "## What else to extract - some good places to start\n",
    "\n",
    "- [Moody, 1983 - A new method for detecting atrial fibrillation using R-R intervals.](http://ecg.mit.edu/george/publications/afib-cinc-1983.pdf)\n",
    "- [Lake, 2010 - Accurate estimation of entropy in very short physiological time series: the problem of atrial fibrillation detection in implanted ventricular devices](https://journals.physiology.org/doi/full/10.1152/ajpheart.00561.2010)\n",
    "- [Rubio, 2011 - Estudio comparativo de algoritmos para la deteccion de la fibrilacion auricular](https://academica-e.unavarra.es/bitstream/handle/2454/4136/577570.pdf?sequence=1&isAllowed=y)\n",
    "- [Ghodrati, 2008 - Statistical analysis of RR interval irregularities for detection of atrial fibrillation](https://ieeexplore.ieee.org/document/4749227)\n",
    "- [Young, 1999 - A comparative study of a hidden Markov model detector for atrial fibrillation](https://ieeexplore.ieee.org/abstract/document/788166)"
   ]
  }
 ],
 "metadata": {
  "kernelspec": {
   "display_name": "Python 3",
   "language": "python",
   "name": "python3"
  },
  "language_info": {
   "codemirror_mode": {
    "name": "ipython",
    "version": 3
   },
   "file_extension": ".py",
   "mimetype": "text/x-python",
   "name": "python",
   "nbconvert_exporter": "python",
   "pygments_lexer": "ipython3",
   "version": "3.8.8"
  }
 },
 "nbformat": 4,
 "nbformat_minor": 5
}
