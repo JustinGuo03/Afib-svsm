{
 "cells": [
  {
   "cell_type": "markdown",
   "id": "072e069e-77f2-4b4b-9685-0948df7710b8",
   "metadata": {
    "tags": []
   },
   "source": [
    "<h1>Version Control Basics</h1>"
   ]
  },
  {
   "cell_type": "markdown",
   "id": "6aa26cd8-102f-4f12-9cdc-84082fdf945d",
   "metadata": {},
   "source": [
    "- [Overview](https://git-scm.com/book/en/v2/Getting-Started-About-Version-Control)\n",
    ">  Version control is a system that records changes to a file or set of files over time so that you can recall specific versions later.\n",
    "- Very helpful in research\n",
    "  - Access past results\n",
    "  - Undo failed experiments\n",
    "  - Recall things that you forgot to record\n",
    "  - Commit Descriptions allow for a descriptive timeline\n",
    "- Code Sharing\n",
    "  - With version control you can share code but keep rough code private\n",
    "  - GitHub is very popular and well known\n",
    "  - Development of Portfolio\n",
    "- Example: https://github.com/025georgialynny/seminar\n",
    "  - Multiple Branches\n",
    "  - Main branch only has finalized code\n",
    "  - initial/testing has 48 differerent commits/versions"
   ]
  },
  {
   "cell_type": "markdown",
   "id": "94759a18-58d9-4f47-83a8-0447efab824e",
   "metadata": {
    "tags": []
   },
   "source": [
    "<h2>Version Control in This Program</h2>"
   ]
  },
  {
   "cell_type": "markdown",
   "id": "c959b90f-14ab-4368-a9ca-cd8cf74fb30f",
   "metadata": {},
   "source": [
    "- Tutorials and Examples for data processing will be available in GitHub\n",
    "- You can ```fork``` this repository and develop from it instead of starting from scratch\n",
    "- Using GitHub and Version Control will be HIGHLY reccommended\n",
    "- Commit changes often!!! At least 1/day\n",
    "- It allows me to review your code for easier assistance with debugging"
   ]
  },
  {
   "cell_type": "markdown",
   "id": "c99e1e2e-365a-4e5d-b3c9-91c7ec1471d6",
   "metadata": {
    "tags": []
   },
   "source": [
    "<h2>Accessing GitHub - Local Machine</h2>"
   ]
  },
  {
   "cell_type": "markdown",
   "id": "0020b779-91bd-4611-8efe-1232ba90d4be",
   "metadata": {},
   "source": [
    "1. [Create a GitHub Account](https://github.com/join?ref_cta=Sign+up&ref_loc=header+logged+out&ref_page=%2F&source=header-home)\n",
    "    - NOTE: A university email gets GitHub Premium for Free\n",
    "2. Download GitHub Tools onto your Machine\n",
    "    - Windows/Mac: [GitHub Desktop](https://desktop.github.com/)\n",
    "    - Linux/Windows/Mac: [```git```](https://git-scm.com/downloads) and [GitHub CLI](https://cli.github.com/manual/)\n",
    "    - Linux/Windows/Mac: [GitHub Kraken](https://www.gitkraken.com/)\n",
    "      - NOTE: *Much* more complex than GitHub Desktop\n",
    "    - Chromebook: GitHub CLI using Termux -- [Tutorial](https://www.techrepublic.com/article/how-to-use-github-in-chrome-os/)\n",
    "3. Initialize Repository\n",
    "    - GitHub Desktop -> Ctrl+N\n",
    "    - CLI -> mkdir New_Repo -> git init New_Repo"
   ]
  },
  {
   "cell_type": "markdown",
   "id": "2b63212a-d001-40ef-80d2-99de6c3874db",
   "metadata": {
    "tags": []
   },
   "source": [
    "<h1>GitHub Tutorials & Documentation</h1> "
   ]
  },
  {
   "cell_type": "markdown",
   "id": "3e82ae87-5cd8-4ff3-9750-99ab5ad29ab9",
   "metadata": {},
   "source": [
    "- [Git CLI Tutorials from GitHub](https://try.github.io/)\n",
    "- [Git CLI Tutorial from Atlassian](https://www.atlassian.com/git/tutorials)\n",
    "- [GitHub Guides](https://guides.github.com/)\n",
    "- [GitHub Hello World Tutorial Project](https://guides.github.com/activities/hello-world/)\n",
    "- [GitHub Desktop Documentation](https://docs.github.com/en/desktop)"
   ]
  }
 ],
 "metadata": {
  "kernelspec": {
   "display_name": "Python 3",
   "language": "python",
   "name": "python3"
  },
  "language_info": {
   "codemirror_mode": {
    "name": "ipython",
    "version": 3
   },
   "file_extension": ".py",
   "mimetype": "text/x-python",
   "name": "python",
   "nbconvert_exporter": "python",
   "pygments_lexer": "ipython3",
   "version": "3.9.1"
  }
 },
 "nbformat": 4,
 "nbformat_minor": 5
}
