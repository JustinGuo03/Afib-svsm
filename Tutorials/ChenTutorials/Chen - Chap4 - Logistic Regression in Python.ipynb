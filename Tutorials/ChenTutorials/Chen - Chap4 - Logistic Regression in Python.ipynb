{
 "cells": [
  {
   "cell_type": "markdown",
   "metadata": {},
   "source": [
    "This lab on Logistic Regression is a Python adaptation from p. 154-161 of \"Introduction to Statistical Learning with Applications in R\" by Gareth James, Daniela Witten, Trevor Hastie and Robert Tibshirani. Adapted by R. Jordan Crouser at Smith College for SDS293: Machine Learning (Spring 2016)."
   ]
  },
  {
   "cell_type": "code",
   "execution_count": 1,
   "metadata": {},
   "outputs": [],
   "source": [
    "import pandas as pd\n",
    "import numpy as np\n",
    "import statsmodels.api as sm"
   ]
  },
  {
   "cell_type": "markdown",
   "metadata": {},
   "source": [
    "# 4.6.2 Logistic Regression\n",
    "\n",
    "Let's return to the `Smarket` data from `ISLR`. "
   ]
  },
  {
   "cell_type": "code",
   "execution_count": 2,
   "metadata": {},
   "outputs": [
    {
     "data": {
      "text/html": [
       "<div>\n",
       "<style scoped>\n",
       "    .dataframe tbody tr th:only-of-type {\n",
       "        vertical-align: middle;\n",
       "    }\n",
       "\n",
       "    .dataframe tbody tr th {\n",
       "        vertical-align: top;\n",
       "    }\n",
       "\n",
       "    .dataframe thead th {\n",
       "        text-align: right;\n",
       "    }\n",
       "</style>\n",
       "<table border=\"1\" class=\"dataframe\">\n",
       "  <thead>\n",
       "    <tr style=\"text-align: right;\">\n",
       "      <th></th>\n",
       "      <th>Lag1</th>\n",
       "      <th>Lag2</th>\n",
       "      <th>Lag3</th>\n",
       "      <th>Lag4</th>\n",
       "      <th>Lag5</th>\n",
       "      <th>Volume</th>\n",
       "      <th>Today</th>\n",
       "      <th>Direction</th>\n",
       "    </tr>\n",
       "    <tr>\n",
       "      <th>Year</th>\n",
       "      <th></th>\n",
       "      <th></th>\n",
       "      <th></th>\n",
       "      <th></th>\n",
       "      <th></th>\n",
       "      <th></th>\n",
       "      <th></th>\n",
       "      <th></th>\n",
       "    </tr>\n",
       "  </thead>\n",
       "  <tbody>\n",
       "    <tr>\n",
       "      <th>2001-01-01</th>\n",
       "      <td>0.381</td>\n",
       "      <td>-0.192</td>\n",
       "      <td>-2.624</td>\n",
       "      <td>-1.055</td>\n",
       "      <td>5.010</td>\n",
       "      <td>1.1913</td>\n",
       "      <td>0.959</td>\n",
       "      <td>Up</td>\n",
       "    </tr>\n",
       "    <tr>\n",
       "      <th>2001-01-01</th>\n",
       "      <td>0.959</td>\n",
       "      <td>0.381</td>\n",
       "      <td>-0.192</td>\n",
       "      <td>-2.624</td>\n",
       "      <td>-1.055</td>\n",
       "      <td>1.2965</td>\n",
       "      <td>1.032</td>\n",
       "      <td>Up</td>\n",
       "    </tr>\n",
       "    <tr>\n",
       "      <th>2001-01-01</th>\n",
       "      <td>1.032</td>\n",
       "      <td>0.959</td>\n",
       "      <td>0.381</td>\n",
       "      <td>-0.192</td>\n",
       "      <td>-2.624</td>\n",
       "      <td>1.4112</td>\n",
       "      <td>-0.623</td>\n",
       "      <td>Down</td>\n",
       "    </tr>\n",
       "    <tr>\n",
       "      <th>2001-01-01</th>\n",
       "      <td>-0.623</td>\n",
       "      <td>1.032</td>\n",
       "      <td>0.959</td>\n",
       "      <td>0.381</td>\n",
       "      <td>-0.192</td>\n",
       "      <td>1.2760</td>\n",
       "      <td>0.614</td>\n",
       "      <td>Up</td>\n",
       "    </tr>\n",
       "    <tr>\n",
       "      <th>2001-01-01</th>\n",
       "      <td>0.614</td>\n",
       "      <td>-0.623</td>\n",
       "      <td>1.032</td>\n",
       "      <td>0.959</td>\n",
       "      <td>0.381</td>\n",
       "      <td>1.2057</td>\n",
       "      <td>0.213</td>\n",
       "      <td>Up</td>\n",
       "    </tr>\n",
       "  </tbody>\n",
       "</table>\n",
       "</div>"
      ],
      "text/plain": [
       "             Lag1   Lag2   Lag3   Lag4   Lag5  Volume  Today Direction\n",
       "Year                                                                  \n",
       "2001-01-01  0.381 -0.192 -2.624 -1.055  5.010  1.1913  0.959        Up\n",
       "2001-01-01  0.959  0.381 -0.192 -2.624 -1.055  1.2965  1.032        Up\n",
       "2001-01-01  1.032  0.959  0.381 -0.192 -2.624  1.4112 -0.623      Down\n",
       "2001-01-01 -0.623  1.032  0.959  0.381 -0.192  1.2760  0.614        Up\n",
       "2001-01-01  0.614 -0.623  1.032  0.959  0.381  1.2057  0.213        Up"
      ]
     },
     "execution_count": 2,
     "metadata": {},
     "output_type": "execute_result"
    }
   ],
   "source": [
    "df = pd.read_csv('Data/Smarket.csv', index_col=0, parse_dates=True)\n",
    "df.head()"
   ]
  },
  {
   "cell_type": "markdown",
   "metadata": {},
   "source": [
    "In this lab, we will fit a logistic regression model in order to predict `Direction` using `Lag1` through `Lag5` and `Volume`. We'll build our model using the `glm()` function, which is part of the\n",
    "`formula` submodule of (`statsmodels`)."
   ]
  },
  {
   "cell_type": "code",
   "execution_count": 3,
   "metadata": {},
   "outputs": [],
   "source": [
    "import statsmodels.formula.api as smf"
   ]
  },
  {
   "cell_type": "markdown",
   "metadata": {},
   "source": [
    "We can use an `R`-like formula string to separate the predictors from the response."
   ]
  },
  {
   "cell_type": "code",
   "execution_count": 4,
   "metadata": {},
   "outputs": [],
   "source": [
    "formula = 'Direction ~ Lag1+Lag2+Lag3+Lag4+Lag5+Volume'"
   ]
  },
  {
   "cell_type": "markdown",
   "metadata": {},
   "source": [
    "The `glm()` function fits **generalized linear models**, a class of models that includes logistic regression. The syntax of the `glm()` function is similar to that of `lm()`, except that we must pass in the argument `family=sm.families.Binomial()` in order to tell `python` to run a logistic regression rather than some other type of generalized linear model."
   ]
  },
  {
   "cell_type": "code",
   "execution_count": 5,
   "metadata": {},
   "outputs": [
    {
     "name": "stdout",
     "output_type": "stream",
     "text": [
      "                          Generalized Linear Model Regression Results                           \n",
      "================================================================================================\n",
      "Dep. Variable:     ['Direction[Down]', 'Direction[Up]']   No. Observations:                 1250\n",
      "Model:                                              GLM   Df Residuals:                     1243\n",
      "Model Family:                                  Binomial   Df Model:                            6\n",
      "Link Function:                                    logit   Scale:                          1.0000\n",
      "Method:                                            IRLS   Log-Likelihood:                -863.79\n",
      "Date:                                  Wed, 09 Jun 2021   Deviance:                       1727.6\n",
      "Time:                                          15:38:13   Pearson chi2:                 1.25e+03\n",
      "No. Iterations:                                       4                                         \n",
      "Covariance Type:                              nonrobust                                         \n",
      "==============================================================================\n",
      "                 coef    std err          z      P>|z|      [0.025      0.975]\n",
      "------------------------------------------------------------------------------\n",
      "Intercept      0.1260      0.241      0.523      0.601      -0.346       0.598\n",
      "Lag1           0.0731      0.050      1.457      0.145      -0.025       0.171\n",
      "Lag2           0.0423      0.050      0.845      0.398      -0.056       0.140\n",
      "Lag3          -0.0111      0.050     -0.222      0.824      -0.109       0.087\n",
      "Lag4          -0.0094      0.050     -0.187      0.851      -0.107       0.089\n",
      "Lag5          -0.0103      0.050     -0.208      0.835      -0.107       0.087\n",
      "Volume        -0.1354      0.158     -0.855      0.392      -0.446       0.175\n",
      "==============================================================================\n"
     ]
    }
   ],
   "source": [
    "model = smf.glm(formula = formula, data=df, family=sm.families.Binomial())\n",
    "result = model.fit()\n",
    "print(result.summary())"
   ]
  },
  {
   "cell_type": "markdown",
   "metadata": {},
   "source": [
    "The smallest p-value here is associated with `Lag1`. The negative coefficient\n",
    "for this predictor suggests that if the market had a positive return yesterday,\n",
    "then it is less likely to go up today. However, at a value of 0.145, the p-value\n",
    "is still relatively large, and so there is no clear evidence of a real association\n",
    "between `Lag1` and `Direction`.\n",
    "\n",
    "We use the `.params` attribute in order to access just the coefficients for this\n",
    "fitted model. Similarly, we can use `.pvalues` to get the p-values for the coefficients, and `.model.endog_names` to get the **endogenous** (or dependent) variables."
   ]
  },
  {
   "cell_type": "code",
   "execution_count": 6,
   "metadata": {},
   "outputs": [
    {
     "name": "stdout",
     "output_type": "stream",
     "text": [
      "Coefficeients\n",
      "Intercept    0.126000\n",
      "Lag1         0.073074\n",
      "Lag2         0.042301\n",
      "Lag3        -0.011085\n",
      "Lag4        -0.009359\n",
      "Lag5        -0.010313\n",
      "Volume      -0.135441\n",
      "dtype: float64\n",
      "\n",
      "p-Values\n",
      "Intercept    0.600700\n",
      "Lag1         0.145232\n",
      "Lag2         0.398352\n",
      "Lag3         0.824334\n",
      "Lag4         0.851445\n",
      "Lag5         0.834998\n",
      "Volume       0.392404\n",
      "dtype: float64\n",
      "\n",
      "Dependent variables\n",
      "['Direction[Down]', 'Direction[Up]']\n"
     ]
    }
   ],
   "source": [
    "print(\"Coefficeients\")\n",
    "print(result.params)\n",
    "print()\n",
    "print(\"p-Values\")\n",
    "print(result.pvalues)\n",
    "print()\n",
    "print(\"Dependent variables\")\n",
    "print(result.model.endog_names)"
   ]
  },
  {
   "cell_type": "markdown",
   "metadata": {},
   "source": [
    "Note that the dependent variable has been converted from nominal into two dummy variables: `['Direction[Down]', 'Direction[Up]']`.\n",
    "\n",
    "The `predict()` function can be used to predict the probability that the\n",
    "market will go down, given values of the predictors. If no data set is supplied to the\n",
    "`predict()` function, then the probabilities are computed for the training\n",
    "data that was used to fit the logistic regression model. "
   ]
  },
  {
   "cell_type": "code",
   "execution_count": 7,
   "metadata": {},
   "outputs": [
    {
     "name": "stdout",
     "output_type": "stream",
     "text": [
      "[0.49291587 0.51853212 0.51886117 0.48477764 0.48921884 0.49304354\n",
      " 0.50734913 0.49077084 0.48238647 0.51116222]\n"
     ]
    }
   ],
   "source": [
    "predictions = result.predict()\n",
    "print(predictions[0:10])"
   ]
  },
  {
   "cell_type": "markdown",
   "metadata": {},
   "source": [
    "Here we have printed only the first ten probabilities. Note: these values correspond to the probability of the market going down, rather than up. If we print the model's encoding of the response values alongside the original nominal response, we see that Python has created a dummy variable with a 1 for `Down`."
   ]
  },
  {
   "cell_type": "code",
   "execution_count": 8,
   "metadata": {},
   "outputs": [
    {
     "name": "stdout",
     "output_type": "stream",
     "text": [
      "[['Up' 0.0]\n",
      " ['Up' 0.0]\n",
      " ['Down' 1.0]\n",
      " ...\n",
      " ['Up' 0.0]\n",
      " ['Down' 1.0]\n",
      " ['Down' 1.0]]\n"
     ]
    }
   ],
   "source": [
    "print(np.column_stack((df.loc[:,\"Direction\"], result.model.endog))) # np.vstack or np.hstack"
   ]
  },
  {
   "cell_type": "markdown",
   "metadata": {},
   "source": [
    "In order to make a prediction as to whether the market will go up or\n",
    "down on a particular day, we must convert these predicted probabilities\n",
    "into class labels, `Up` or `Down`. The following *list comprehension* creates a vector\n",
    "of class predictions based on whether the predicted probability of a market\n",
    "increase is greater than or less than 0.5."
   ]
  },
  {
   "cell_type": "code",
   "execution_count": 9,
   "metadata": {},
   "outputs": [
    {
     "name": "stdout",
     "output_type": "stream",
     "text": [
      "['Down', 'Down', 'Up', 'Up', 'Up', 'Down', 'Up', 'Up', 'Down']\n"
     ]
    }
   ],
   "source": [
    "predictions_nominal = [ \"Up\" if x < 0.5 else \"Down\" for x in predictions]\n",
    "print(predictions_nominal[1:10])"
   ]
  },
  {
   "cell_type": "markdown",
   "metadata": {},
   "source": [
    "This transforms to `Up` all of the elements for which the predicted probability of a\n",
    "market increase exceeds 0.5 (i.e. probability of a decrease is below 0.5). Given these predictions, the `confusion\\_matrix()` function can be used to produce a confusion matrix in order to determine how many\n",
    "observations were correctly or incorrectly classified."
   ]
  },
  {
   "cell_type": "markdown",
   "metadata": {},
   "source": [
    "#### sklearn.metrics.confusion_matrix\n",
    "\n",
    "sklearn.metrics.confusion_matrix(y_true, y_pred, *, labels=None, sample_weight=None, normalize=None)"
   ]
  },
  {
   "cell_type": "code",
   "execution_count": 10,
   "metadata": {},
   "outputs": [
    {
     "name": "stdout",
     "output_type": "stream",
     "text": [
      "[[145 457]\n",
      " [141 507]]\n"
     ]
    }
   ],
   "source": [
    "from sklearn.metrics import confusion_matrix, classification_report\n",
    "print(confusion_matrix(df[\"Direction\"], \n",
    "                       predictions_nominal))"
   ]
  },
  {
   "cell_type": "markdown",
   "metadata": {},
   "source": [
    "The diagonal elements of the confusion matrix indicate correct predictions,\n",
    "while the off-diagonals represent incorrect predictions. Hence our model\n",
    "correctly predicted that the market would go up on 507 days and that\n",
    "it would go down on 145 days, for a total of 507 + 145 = 652 correct\n",
    "predictions. The `mean()` function can be used to compute the fraction of\n",
    "days for which the prediction was correct. In this case, logistic regression\n",
    "correctly predicted the movement of the market 52.2% of the time. this is confirmed by checking the output of the `classification\\_report()` function."
   ]
  },
  {
   "cell_type": "markdown",
   "metadata": {},
   "source": [
    "#### sklearn.metrics.classification_report\n",
    "\n",
    "sklearn.metrics.classification_report(y_true, y_pred, *, labels=None, target_names=None, sample_weight=None, digits=2, output_dict=False, zero_division='warn')"
   ]
  },
  {
   "cell_type": "code",
   "execution_count": 17,
   "metadata": {},
   "outputs": [
    {
     "data": {
      "text/plain": [
       "Up      648\n",
       "Down    602\n",
       "Name: Direction, dtype: int64"
      ]
     },
     "execution_count": 17,
     "metadata": {},
     "output_type": "execute_result"
    }
   ],
   "source": [
    "df[\"Direction\"].value_counts()"
   ]
  },
  {
   "cell_type": "code",
   "execution_count": 11,
   "metadata": {},
   "outputs": [
    {
     "name": "stdout",
     "output_type": "stream",
     "text": [
      "              precision    recall  f1-score   support\n",
      "\n",
      "        Down      0.507     0.241     0.327       602\n",
      "          Up      0.526     0.782     0.629       648\n",
      "\n",
      "    accuracy                          0.522      1250\n",
      "   macro avg      0.516     0.512     0.478      1250\n",
      "weighted avg      0.517     0.522     0.483      1250\n",
      "\n"
     ]
    }
   ],
   "source": [
    "print(classification_report(df[\"Direction\"], \n",
    "                            predictions_nominal, \n",
    "                            digits = 3))\n",
    "\n",
    "##                 Predicted \n",
    "##                 Down          Up\n",
    "## Truth  Down      145          457\n",
    "##        Up        141          507\n",
    "\n",
    "## For Down: precision = (145)/(145+141) = 0.506993\n",
    "## For Down: recall = (145)/(145+457) = 0.2408638\n",
    "## For Down: f1-score = 2*(precision * recall)/(precision + recall) = 2* (0.507*0.241)/(0.507+0.241)=0.3267032\n",
    "\n",
    "## For Up: precision = (507)/(507+457) = 0.5259336\n",
    "## For Up: recall = (507)/(507+141) = 0.7824074\n",
    "## For Down: f1-score = 2*(precision * recall)/(precision + recall) = 2* (0.526*0.782)/(0.526+0.782)=0.628948\n",
    "\n",
    "## Accuracy = (145+507)/(1250) =0.5216\n",
    "\n",
    "## Macro-average precision = (P1+P2)/2 = (0.507+0.526)/2 = 0.5165\n",
    "## Macro-average recall = (R1+R2)/2 = (0.241+0.782)/2 = 0.5115\n",
    "## Macro-average f1-score = (f1_1+f1_2)/2 = (0.327+0.629)/2 = 0.478\n",
    "\n",
    "\n",
    "# Up      648\n",
    "# Down    602\n",
    "# Total = 1250\n",
    "\n",
    "## Weighted-average precision = w1*P1 + w2*P2 = (602/1250)*0.507 + (648/1250)*0.526 = 0.5168496\n",
    "## Weighted-average recall = w1*R1 + w2*R2 = (602/1250)*0.241 + (648/1250)*0.782 = 0.5214544\n",
    "## Weighted-average f1-score = w1*(f1_1) + w2*(f1_2) = (602/1250)*0.327 + (648/1250)*0.629 = 0.4835568"
   ]
  },
  {
   "cell_type": "markdown",
   "metadata": {},
   "source": [
    "At first glance, it appears that the logistic regression model is working\n",
    "a little better than random guessing. But remember, this result is misleading\n",
    "because we trained and tested the model on the same set of 1,250 observations.\n",
    "In other words, 100− 52.2 = 47.8% is the **training error rate**. As we\n",
    "have seen previously, the training error rate is often overly optimistic — it\n",
    "tends to underestimate the _test_ error rate. \n",
    "\n",
    "In order to better assess the accuracy\n",
    "of the logistic regression model in this setting, we can fit the model\n",
    "using part of the data, and then examine how well it predicts the held out\n",
    "data. This will yield a more realistic error rate, in the sense that in practice\n",
    "we will be interested in our model’s performance not on the data that\n",
    "we used to fit the model, but rather on days in the future for which the\n",
    "market’s movements are unknown.\n",
    "\n",
    "Like we did with KNN, we will first create a vector corresponding\n",
    "to the observations from 2001 through 2004. We will then use this vector\n",
    "to create a held out data set of observations from 2005."
   ]
  },
  {
   "cell_type": "code",
   "execution_count": 12,
   "metadata": {},
   "outputs": [],
   "source": [
    "x_train = df[:'2004'][:]\n",
    "y_train = df[:'2004']['Direction']\n",
    "\n",
    "x_test = df['2005':][:]\n",
    "y_test = df['2005':]['Direction']\n",
    "\n",
    "## Or you can use \n",
    "#x_train = df.loc[:'2004', :]\n",
    "#y_train = df.loc[:'2004','Direction']\n",
    "#\n",
    "#x_test = df.loc['2005':, :]\n",
    "#y_test = df.loc['2005':, 'Direction']"
   ]
  },
  {
   "cell_type": "markdown",
   "metadata": {},
   "source": [
    "We now fit a logistic regression model using only the subset of the observations\n",
    "that correspond to dates before 2005, using the subset argument.\n",
    "We then obtain predicted probabilities of the stock market going up for\n",
    "each of the days in our test set—that is, for the days in 2005."
   ]
  },
  {
   "cell_type": "code",
   "execution_count": 13,
   "metadata": {},
   "outputs": [],
   "source": [
    "model = smf.glm(formula = formula, \n",
    "                data = x_train, \n",
    "                family = sm.families.Binomial())\n",
    "result = model.fit()\n",
    "#print(result.summary())"
   ]
  },
  {
   "cell_type": "markdown",
   "metadata": {},
   "source": [
    "Notice that we have trained and tested our model on two completely separate\n",
    "data sets: training was performed using only the dates before 2005,\n",
    "and testing was performed using only the dates in 2005. Finally, we compute\n",
    "the predictions for 2005 and compare them to the actual movements\n",
    "of the market over that time period."
   ]
  },
  {
   "cell_type": "code",
   "execution_count": 14,
   "metadata": {},
   "outputs": [
    {
     "name": "stdout",
     "output_type": "stream",
     "text": [
      "              precision    recall  f1-score   support\n",
      "\n",
      "        Down      0.443     0.694     0.540       111\n",
      "          Up      0.564     0.312     0.402       141\n",
      "\n",
      "    accuracy                          0.480       252\n",
      "   macro avg      0.503     0.503     0.471       252\n",
      "weighted avg      0.511     0.480     0.463       252\n",
      "\n"
     ]
    }
   ],
   "source": [
    "predictions = result.predict(x_test)\n",
    "predictions_nominal = [ \"Up\" if x < 0.5 else \"Down\" for x in predictions]\n",
    "print(classification_report(y_test, \n",
    "                            predictions_nominal, \n",
    "                            digits = 3))"
   ]
  },
  {
   "cell_type": "markdown",
   "metadata": {},
   "source": [
    "The results are rather disappointing: the test error\n",
    "rate (1 - `recall`) is 52%, which is worse than random guessing! Of course this result\n",
    "is not all that surprising, given that one would not generally expect to be\n",
    "able to use previous days’ returns to predict future market performance.\n",
    "(After all, if it were possible to do so, then the authors of this book [along with your professor] would probably\n",
    "be out striking it rich rather than teaching statistics.)\n",
    "\n",
    "We recall that the logistic regression model had very underwhelming pvalues\n",
    "associated with all of the predictors, and that the smallest p-value,\n",
    "though not very small, corresponded to `Lag1`. Perhaps by removing the\n",
    "variables that appear not to be helpful in predicting `Direction`, we can\n",
    "obtain a more effective model. After all, using predictors that have no\n",
    "relationship with the response tends to cause a deterioration in the test\n",
    "error rate (since such predictors cause an increase in variance without a\n",
    "corresponding decrease in bias), and so removing such predictors may in\n",
    "turn yield an improvement. \n",
    "\n",
    "In the space below, refit a logistic regression using just `Lag1` and `Lag2`, which seemed to have the highest predictive power in the original logistic regression model."
   ]
  },
  {
   "cell_type": "code",
   "execution_count": 15,
   "metadata": {},
   "outputs": [
    {
     "name": "stdout",
     "output_type": "stream",
     "text": [
      "                          Generalized Linear Model Regression Results                           \n",
      "================================================================================================\n",
      "Dep. Variable:     ['Direction[Down]', 'Direction[Up]']   No. Observations:                  998\n",
      "Model:                                              GLM   Df Residuals:                      995\n",
      "Model Family:                                  Binomial   Df Model:                            2\n",
      "Link Function:                                    logit   Scale:                          1.0000\n",
      "Method:                                            IRLS   Log-Likelihood:                -690.70\n",
      "Date:                                  Wed, 09 Jun 2021   Deviance:                       1381.4\n",
      "Time:                                          15:38:14   Pearson chi2:                     998.\n",
      "No. Iterations:                                       4                                         \n",
      "Covariance Type:                              nonrobust                                         \n",
      "==============================================================================\n",
      "                 coef    std err          z      P>|z|      [0.025      0.975]\n",
      "------------------------------------------------------------------------------\n",
      "Intercept     -0.0322      0.063     -0.508      0.611      -0.156       0.092\n",
      "Lag1           0.0556      0.052      1.076      0.282      -0.046       0.157\n",
      "Lag2           0.0445      0.052      0.861      0.389      -0.057       0.146\n",
      "==============================================================================\n",
      "\n",
      "              precision    recall  f1-score   support\n",
      "\n",
      "        Down      0.500     0.315     0.387       111\n",
      "          Up      0.582     0.752     0.656       141\n",
      "\n",
      "    accuracy                          0.560       252\n",
      "   macro avg      0.541     0.534     0.522       252\n",
      "weighted avg      0.546     0.560     0.538       252\n",
      "\n"
     ]
    }
   ],
   "source": [
    "# Write your code to fit the new model here\n",
    "formula = 'Direction ~ Lag1+Lag2'\n",
    "model = smf.glm(formula = formula, \n",
    "                data = x_train, \n",
    "                family = sm.families.Binomial())\n",
    "\n",
    "# -----------------------------------\n",
    "# This will test your new model; \n",
    "# You don't need to change anything below\n",
    "# -----------------------------------\n",
    "result = model.fit()\n",
    "print(result.summary())\n",
    "print()\n",
    "\n",
    "predictions = result.predict(x_test)\n",
    "predictions_nominal = [ \"Up\" if x < 0.5 else \"Down\" for x in predictions]\n",
    "print(classification_report(y_test, predictions_nominal, digits = 3))"
   ]
  },
  {
   "cell_type": "markdown",
   "metadata": {},
   "source": [
    "Now the results appear to be more promising: 56% of the daily movements\n",
    "have been correctly predicted. The confusion matrix suggests that on days\n",
    "when logistic regression predicts that the market will decline, it is only\n",
    "correct 50% of the time. However, on days when it predicts an increase in\n",
    "the market, it has a 58% accuracy rate.\n",
    "\n",
    "Finally, suppose that we want to predict the returns associated with **particular\n",
    "values** of `Lag1` and `Lag2`. In particular, we want to predict Direction on a\n",
    "day when `Lag1` and `Lag2` equal 1.2 and 1.1, respectively, and on a day when\n",
    "they equal 1.5 and −0.8. We can do this by passing a new data frame containing our test values to the `predict()` function."
   ]
  },
  {
   "cell_type": "code",
   "execution_count": 16,
   "metadata": {},
   "outputs": [
    {
     "name": "stdout",
     "output_type": "stream",
     "text": [
      "0    0.520854\n",
      "1    0.503906\n",
      "dtype: float64\n"
     ]
    }
   ],
   "source": [
    "print(result.predict(pd.DataFrame([[1.2, 1.1], \n",
    "                                   [1.5, -0.8]], \n",
    "                                  columns = [\"Lag1\",\"Lag2\"])))"
   ]
  },
  {
   "cell_type": "markdown",
   "metadata": {},
   "source": [
    "To get credit for this lab, play around with a few other values for `Lag1` and `Lag2`, and then post to [#lab4](https://sds293.slack.com/messages/C79BELETC) about what you found. If you're feeling adventurous, try fitting models with other subsets of variables to see if you can find a better one!"
   ]
  },
  {
   "cell_type": "code",
   "execution_count": null,
   "metadata": {},
   "outputs": [],
   "source": []
  }
 ],
 "metadata": {
  "anaconda-cloud": {},
  "kernelspec": {
   "display_name": "Python 3",
   "language": "python",
   "name": "python3"
  },
  "language_info": {
   "codemirror_mode": {
    "name": "ipython",
    "version": 3
   },
   "file_extension": ".py",
   "mimetype": "text/x-python",
   "name": "python",
   "nbconvert_exporter": "python",
   "pygments_lexer": "ipython3",
   "version": "3.9.1"
  }
 },
 "nbformat": 4,
 "nbformat_minor": 4
}
