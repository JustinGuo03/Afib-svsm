{
 "cells": [
  {
   "cell_type": "markdown",
   "id": "85ce57e8-c350-4b87-aa3b-e9c78a5761a0",
   "metadata": {
    "tags": []
   },
   "source": [
    "<h1>Data Preprocessing/Background Research</h1>"
   ]
  },
  {
   "cell_type": "markdown",
   "id": "07e4e034-6e00-4fcb-8501-e03c5c041bdb",
   "metadata": {},
   "source": [
    "- Look into past papers that cite the data\n",
    "  - [Google Scholar](https://scholar.google.com) -> Search for the data -> <ins>Cited By XXXXX</ins>\n",
    "- Look at descriptions/paper linked at data repository\n",
    "- Read abstracts\n",
    "- Summarize in own words/notes"
   ]
  },
  {
   "cell_type": "markdown",
   "id": "87cd7841-1665-419f-a48a-36b37bf8d577",
   "metadata": {
    "tags": []
   },
   "source": [
    "<h1 id=\"basic_steps\">Data Processing - Basic Steps</h1>"
   ]
  },
  {
   "cell_type": "markdown",
   "id": "55f9a950-6dcf-4d78-b5b9-ff402db536c8",
   "metadata": {},
   "source": [
    "\n",
    "1. **Export/Process Raw Data**\n",
    "    - Find out how to process raw data\n",
    "    - Look for tutorials on specific raw data processing\n",
    "    - EX: CSV/TSV -> Raw data best processed using tools like DataFrame (R) or Pandas (Python)\n",
    "    - EX: Zip Files -> Extract using 7zip, WinRar, or zip\n",
    "\n",
    "\n",
    "2. **Analyze Raw Data to Decide How to Clean**\n",
    "   - Different data needs to be cleaned different ways\n",
    "      - EX: Time series data won't have many ```NULL``` values that effects the code, but when classification data has ```NULL``` values it can greatly effect algorithms\n",
    "   - Get a general idea of the data\n",
    "      - Often data repositories have descriptions\n",
    "      - Google Scholar Search\n",
    "          - If the data has been previously utilized in published papers those papers are a great resource for initial data understanding\n",
    "      - Plot histograms of different classification variables\n",
    "      - Diagrams\n",
    "   - Decide cleaning approach\n",
    "\n",
    "\n",
    "3. **Detailed Analysis of Data**\n",
    "   - Gather statistics and spread of data\n",
    "      - EX: Proportion male/female\n",
    "      - EX: Spread of sample length\n",
    "   - Identify attributes that signal bad data\n",
    "      - EX: Noise\n",
    "      - EX: Hearbeats that are 20 seconds long\n",
    "   - Analyze data attributes\n",
    "      - What are the variables? \n",
    "      - What are the significance of the variables? \n",
    "      - How can these variables support my hypothesis/research question\n",
    "\n",
    "\n",
    "4. **Cleaning**\n",
    "   - This is very variable - we can talk more on this about the AFIB Data\n"
   ]
  },
  {
   "cell_type": "markdown",
   "id": "fc886ff5-dc92-474d-a82e-b82f873cc854",
   "metadata": {
    "tags": []
   },
   "source": [
    "<h1>Data Processing - In Practice</h1>"
   ]
  },
  {
   "cell_type": "markdown",
   "id": "5bb2adbf-2a89-47e3-8360-cdecc5b2cf24",
   "metadata": {
    "tags": []
   },
   "source": [
    "<h2>Export/Process Raw Data</h2>"
   ]
  },
  {
   "cell_type": "markdown",
   "id": "3611b789-ca76-4970-ba0c-9b5e039a15ca",
   "metadata": {
    "tags": []
   },
   "source": [
    "<h3>Overview</h3>"
   ]
  },
  {
   "cell_type": "markdown",
   "id": "28db9afb-6763-4659-aad4-82a160702a37",
   "metadata": {},
   "source": [
    "- Data Available at: https://physionet.org/content/afdb/1.0.0/\n",
    "  - Download Options: \n",
    "    - CLI: `wget -r -N -c -np - Data Available at: https://physionet.org/content/afdb/1.0.0/`\n",
    "    - [Download the ZIP file](https://physionet.org/static/published-projects/afdb/mit-bih-atrial-fibrillation-database-1.0.0.zip) (1.4 GB)\n",
    "- **APA Citation:** Moody GB, Mark RG. A new method for detecting atrial fibrillation using R-R intervals. Computers in Cardiology. 10:227-230 (1983)."
   ]
  },
  {
   "cell_type": "markdown",
   "id": "9b3d4cd7-47ea-486f-b213-11f5d1ae7550",
   "metadata": {
    "tags": []
   },
   "source": [
    "<h3>Steps to Take</h3>"
   ]
  },
  {
   "cell_type": "markdown",
   "id": "1b015b96-18e7-4d1d-8297-6e3d329eb980",
   "metadata": {},
   "source": [
    "- Open with notepad\n",
    "  - Is the file readable/plain-text? \n",
    "  - Is the file binary?\n",
    "- Look at given information\n",
    "  - Read data description\n",
    "  - Is there python code we can use as a reference? \n",
    "    - How does that code extract data for use?\n",
    "- Google Search\n",
    "  - Results of search: ```Moody GB, Mark RG. A new method for detecting atrial fibrillation using R-R intervals. Computers in Cardiology. 10:227-230 (1983).```"
   ]
  },
  {
   "cell_type": "markdown",
   "id": "4bc0cfa1-e08b-4286-bd3a-2ca5f7e95395",
   "metadata": {
    "tags": []
   },
   "source": [
    "## Analyze/Clean Data"
   ]
  },
  {
   "cell_type": "markdown",
   "id": "4aca5ee3-3bd8-4ddb-abf5-6d8267983f6c",
   "metadata": {
    "tags": []
   },
   "source": [
    "### Key Questions to Ask"
   ]
  },
  {
   "cell_type": "markdown",
   "id": "8bf5f49f-07eb-478c-9c08-cd38209e69c6",
   "metadata": {},
   "source": [
    "- What can I extract from this data? \n",
    "    - We are looking at R-Peaks and RR-Intervals\n",
    "- How can I extract this from the data? \n",
    "- What is blocking my extraction? "
   ]
  },
  {
   "cell_type": "markdown",
   "id": "422f4a59-f4a6-4844-835b-48e3113d7351",
   "metadata": {},
   "source": [
    "- Single Lead, Portable ECG\n",
    "    - Results in many noise artifacts\n",
    "    - Hard to detect R-Peaks\n",
    "- Minimal Annotations\n",
    "    - Cannot check if detected peaks are correct"
   ]
  }
 ],
 "metadata": {
  "kernelspec": {
   "display_name": "Python 3",
   "language": "python",
   "name": "python3"
  },
  "language_info": {
   "codemirror_mode": {
    "name": "ipython",
    "version": 3
   },
   "file_extension": ".py",
   "mimetype": "text/x-python",
   "name": "python",
   "nbconvert_exporter": "python",
   "pygments_lexer": "ipython3",
   "version": "3.9.1"
  },
  "toc-autonumbering": true,
  "toc-showcode": false,
  "toc-showmarkdowntxt": false
 },
 "nbformat": 4,
 "nbformat_minor": 5
}
