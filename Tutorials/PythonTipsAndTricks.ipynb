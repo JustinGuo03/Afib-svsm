{
 "cells": [
  {
   "cell_type": "markdown",
   "id": "2bff7d22-18ad-43e2-aede-33dde9fed42f",
   "metadata": {
    "heading_collapsed": "true",
    "tags": []
   },
   "source": [
    "**Python Tips And Tricks**"
   ]
  },
  {
   "cell_type": "markdown",
   "id": "e607d25d-49cd-4509-b81f-5f7511f68b1b",
   "metadata": {
    "tags": []
   },
   "source": [
    "# Jupyter Notebook "
   ]
  },
  {
   "cell_type": "markdown",
   "id": "35b27795-331c-4dc0-863a-200f64c82a57",
   "metadata": {
    "tags": []
   },
   "source": [
    "## Overview "
   ]
  },
  {
   "cell_type": "markdown",
   "id": "9a05abfd-dea1-4865-83f8-49cd3b22e5a7",
   "metadata": {
    "tags": []
   },
   "source": [
    "### Modes"
   ]
  },
  {
   "cell_type": "markdown",
   "id": "26442510-990a-42c1-925f-480fd7bc5989",
   "metadata": {},
   "source": [
    "- Code\n",
    "  - Colors and formats based on language\n",
    "  - Will color keywords like ```for```, ```if```, and ```else```\n",
    "  - Italicized *#comments*\n",
    "- Markdown\n",
    "  - A way to easily format text on the web\n",
    "  - Can use HTML tags like \\<h1\\> or specific markdown patterns\n",
    "  \n",
    "|HTML|Markdown|Output|\n",
    "|---|---|---|\n",
    "|\\<strong\\>BOLD\\<\\strong\\>|\\*\\*BOLD\\*\\*|**BOLD**|\n",
    "\n",
    "- Raw\n",
    "  - Raw text displays text as you typed it in\n",
    "  - This is similar to opening a file in notepad or viewing source html code"
   ]
  },
  {
   "cell_type": "markdown",
   "id": "22066288-820b-4b4a-a139-e6f0606667c9",
   "metadata": {
    "tags": []
   },
   "source": [
    "## Workflow"
   ]
  },
  {
   "cell_type": "markdown",
   "id": "b9c338cc-beb4-45a7-a340-b224f6f5ae64",
   "metadata": {
    "heading_collapsed": "true",
    "tags": []
   },
   "source": [
    "### Kernel "
   ]
  },
  {
   "cell_type": "markdown",
   "id": "da937598-7a84-4186-85c2-3673c101f30d",
   "metadata": {},
   "source": [
    "- When you open a notebook in Jupyter it asks you what Kernel you would like to use. \n",
    "> **Kernel**: The program that will *execute* the code you run\n",
    "- We will be using **Python 3** as our programming language and our kernel will be **Python 3**"
   ]
  },
  {
   "cell_type": "markdown",
   "id": "0690d852-5023-4f9c-8905-3a07e9d6a9ca",
   "metadata": {
    "tags": []
   },
   "source": [
    "#### Other Kernels"
   ]
  },
  {
   "cell_type": "markdown",
   "id": "1b75a3bc-03db-464e-8d34-0359a8822405",
   "metadata": {},
   "source": [
    "- Jupyter also supports the programming language R\n",
    "- **Anaconda** is a python datascience tool that allows the creation of multiple python environments\n",
    ">A **conda environment** is a directory that contains a specific collection of conda packages that you have installed\n",
    "- If using a conda environment you would use that environment as your kernel"
   ]
  },
  {
   "cell_type": "markdown",
   "id": "434ebe9c-ff4c-4c7f-ab21-bea4cc48baa6",
   "metadata": {
    "tags": []
   },
   "source": [
    "### Introduction"
   ]
  },
  {
   "cell_type": "markdown",
   "id": "f97adb8e-4f7b-45b7-87be-0ce18f7073df",
   "metadata": {},
   "source": [
    "- All code files should have information at the top including: \n",
    "    - Author\n",
    "    - Directions\n",
    "    - Purpose\n",
    "- Best practice is that your first cell should have a description of your code and why you are writing it"
   ]
  },
  {
   "cell_type": "markdown",
   "id": "b6efbfe9-ae63-4f87-b1db-c2cf3bc370f2",
   "metadata": {
    "tags": []
   },
   "source": [
    "### Code "
   ]
  },
  {
   "cell_type": "markdown",
   "id": "877e8252-9ed2-49d0-b89e-81742691ef9a",
   "metadata": {},
   "source": [
    "- Put all library calls in first code cell\n",
    "- Make sure you have comments!!!!\n",
    "    - I reccommend setting aside 30 min at the end of each day to add comments to the code you wrote"
   ]
  },
  {
   "cell_type": "markdown",
   "id": "5b2eeb7e-18d8-42ad-bab3-6c1b6150fd56",
   "metadata": {
    "tags": []
   },
   "source": [
    "### Great Jupyter Extensions"
   ]
  },
  {
   "cell_type": "markdown",
   "id": "8311190b-0209-44c6-958a-4b4991d7a5c2",
   "metadata": {},
   "source": [
    "- git\n",
    "    - integrates GitHub with jupyterLab and allows commiting directly from Jupyter\n",
    "- spreadsheet-editor\n",
    "    - allows better viewing and editing of .csv and .tsv files"
   ]
  },
  {
   "cell_type": "markdown",
   "id": "16e8a04b-3489-45bd-9919-ba827d22f98c",
   "metadata": {
    "heading_collapsed": "true",
    "tags": []
   },
   "source": [
    "## Shortcuts"
   ]
  },
  {
   "cell_type": "markdown",
   "id": "a3ceebbe-600d-4dc2-a346-d5db046768b2",
   "metadata": {},
   "source": [
    "- Full list available [HERE](https://towardsdatascience.com/jypyter-notebook-shortcuts-bf0101a98330) \n",
    "- **NOTE**: If the browser you are accessing Jupyter in has a shortcut that overrides the Jupyter Shortcut\n",
    "### General\n",
    "|Keystroke|Command|\n",
    "|---------|-------|\n",
    "|Shift + Enter|run the current cell, move to next cell or create new|\n",
    "|Ctrl + Enter|run selected cells|\n",
    "|Alt + Enter|run the current cell, insert cell below|\n",
    "|Ctrl + S|save and checkpoint|\n",
    "|Esc|enter command mode|\n",
    "\n",
    "### When In Command Mode\n",
    "|Keystroke|Command|\n",
    "|---------|-------|\n",
    "|Up|select cell above|\n",
    "|Down|select cell below|\n",
    "|Shift + Up|extend selected cells above|\n",
    "|Shift + Down|extend selected cells below|\n",
    "|A|insert cell above|\n",
    "|B|insert cell below|\n",
    "|X|cut selected cells|\n",
    "|C|copy selected cells|\n",
    "|V|paste cells below|\n",
    "|Shift + V|paste cells above|\n",
    "|D, D (press the key twice)|delete selected cells|\n",
    "|Z|undo cell deletion|\n",
    "|S|Save and Checkpoint|\n",
    "|Y|change the cell type to Code|\n",
    "|M|change the cell type to Markdown|\n",
    "|P|open the command palette.|\n",
    "|Shift + Space|scroll notebook up|\n",
    "|Space|scroll notebook down|\n",
    "\n",
    "### When In Edit Mode\n",
    "|Keystroke|Command|\n",
    "|---------|-------|\n",
    "|Esc|take you into command mode|\n",
    "|Tab|code completion or indent|\n",
    "|Shift + Tab|tooltip|\n",
    "|Ctrl + ] or Tab|indent|\n",
    "|Ctrl + \\[|dedent|\n",
    "|Ctrl + A|select all|\n",
    "|Ctrl + Z|undo|\n",
    "|Ctrl + Shift + Z or Ctrl + Y|redo|\n",
    "|Ctrl + Home|go to cell start|\n",
    "|Ctrl + End|go to cell end|\n",
    "|Ctrl + Left|go one word left|\n",
    "|Ctrl + Right|go one word right|"
   ]
  },
  {
   "cell_type": "markdown",
   "id": "97cc52ee-9dc5-43b6-aabb-bfaea9ba8881",
   "metadata": {
    "tags": []
   },
   "source": [
    "# Python Tools"
   ]
  },
  {
   "cell_type": "markdown",
   "id": "24ee38e0-7956-4922-a953-b80fb4aa0e7c",
   "metadata": {
    "tags": []
   },
   "source": [
    "## List Comprehensions"
   ]
  },
  {
   "cell_type": "markdown",
   "id": "c78a994d-b7dc-4445-9367-edb720575623",
   "metadata": {},
   "source": [
    "  https://www.pythonforbeginners.com/basics/list-comprehensions-in-python"
   ]
  }
 ],
 "metadata": {
  "kernelspec": {
   "display_name": "Python 3",
   "language": "python",
   "name": "python3"
  },
  "language_info": {
   "codemirror_mode": {
    "name": "ipython",
    "version": 3
   },
   "file_extension": ".py",
   "mimetype": "text/x-python",
   "name": "python",
   "nbconvert_exporter": "python",
   "pygments_lexer": "ipython3",
   "version": "3.9.1"
  },
  "toc-autonumbering": true
 },
 "nbformat": 4,
 "nbformat_minor": 5
}
